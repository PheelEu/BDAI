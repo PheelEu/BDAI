{
 "cells": [
  {
   "cell_type": "code",
   "execution_count": 128,
   "metadata": {},
   "outputs": [],
   "source": [
    "# @Author Euclidi Filippo - matr. 294517\n",
    "\n",
    "# Importing all needed libraries.\n",
    "\n",
    "import numpy as np \n",
    "import pandas as pd\n",
    "import matplotlib.pyplot as plt\n",
    "\n",
    "# Features Selection methods imports\n",
    "from sklearn.feature_selection import SelectKBest\n",
    "from sklearn.feature_selection import chi2\n",
    "  \n",
    "# Data preprocessing methods imports\n",
    "from sklearn import preprocessing \n",
    "\n",
    "# Train test split imports\n",
    "from sklearn.model_selection import train_test_split\n",
    "\n",
    "# Score evaluating methods imports\n",
    "from sklearn.metrics import f1_score\n",
    "from sklearn.metrics import accuracy_score\n",
    "from sklearn.metrics import confusion_matrix\n",
    "\n",
    "# Classifications Models imports\n",
    "from sklearn.linear_model import LogisticRegression\n",
    "from sklearn.tree import DecisionTreeClassifier, plot_tree\n",
    "from sklearn.ensemble import RandomForestClassifier\n",
    "from sklearn.svm import SVC\n",
    "from sklearn.ensemble import BaggingClassifier\n",
    "from sklearn.ensemble import AdaBoostClassifier\n",
    "from sklearn.ensemble import GradientBoostingClassifier\n",
    "#from xgboost import XGBClassifier  #To use this, use compatible kernel \n",
    "                                    # (conda tensorflow on mac m1 is not compatible)\n",
    "\n",
    "# Model Selection and Cross Validation imports\n",
    "from sklearn.model_selection import KFold\n",
    "\n",
    "# Neural Network imports\n",
    "import tensorflow as tf\n",
    "from tensorflow.keras import optimizers\n",
    "from tensorflow.keras import models\n",
    "from tensorflow.keras.utils import to_categorical\n",
    "from tensorflow.keras import layers"
   ]
  },
  {
   "cell_type": "code",
   "execution_count": 129,
   "metadata": {},
   "outputs": [],
   "source": [
    "# I'm now going to create a function to calculate the accuracy of the predicted values\n",
    "\n",
    "def score(y_test, y_pred, specification):\n",
    "    acc = accuracy_score(y_test, y_pred)\n",
    "    f1 = f1_score(y_test, y_pred, average=specification)\n",
    "    c_mat = confusion_matrix(y_test, y_pred)\n",
    "    return acc, f1, c_mat"
   ]
  },
  {
   "cell_type": "code",
   "execution_count": 130,
   "metadata": {},
   "outputs": [],
   "source": [
    "def kFoldCrossValidation(model, X, y):\n",
    "    k = 10\n",
    "    kf = KFold(n_splits=k, random_state=None)\n",
    "    acc_score = []\n",
    "    f1_score = []\n",
    "    prec_matrix = []\n",
    "        \n",
    "    for train_index , test_index in kf.split(X):\n",
    "        X_train , X_test = X[train_index,:],X[test_index,:]\n",
    "        y_train , y_test = y[train_index] , y[test_index]\n",
    "        \n",
    "        model.fit(X_train,y_train)\n",
    "        pred_values = model.predict(X_test)\n",
    "        acc, f1, prec_m = score(y_test, pred_values, 'weighted')\n",
    "        acc_score.append(acc)\n",
    "        f1_score.append(f1)\n",
    "        prec_matrix.append(prec_m)\n",
    "            \n",
    "    avg_acc_score = sum(acc_score)/k\n",
    "    avg_f1_score = sum(f1_score)/k\n",
    "    avg_prec_mat = sum(prec_matrix)/k\n",
    "    print(\"Accuracy score: \"+str(avg_acc_score) + \" \\nF1 Score:\" + str(avg_f1_score) \n",
    "          + \" \\nAverage Precision Matrix:\\n\" + str(avg_prec_mat))"
   ]
  },
  {
   "cell_type": "code",
   "execution_count": 131,
   "metadata": {},
   "outputs": [],
   "source": [
    "# Setting train and test set by importing the datasets\n",
    "df_train = pd.read_csv(\"./archive/train.csv\")\n",
    "df_test = pd.read_csv(\"./archive/test.csv\")"
   ]
  },
  {
   "cell_type": "code",
   "execution_count": 132,
   "metadata": {},
   "outputs": [],
   "source": [
    "# First of all lets create our dataset X (multidimensional array) by removing the price_range\n",
    "# column which will be our target value to check how good is a classifier\n",
    "\n",
    "X = df_train.iloc[:, 0:-1]\n",
    "X = df_train.drop(columns = ['price_range'])"
   ]
  },
  {
   "cell_type": "code",
   "execution_count": 133,
   "metadata": {},
   "outputs": [],
   "source": [
    "# Now we will create our y array containing all the values which we expect from our classifier\n",
    "\n",
    "y = df_train['price_range'].values"
   ]
  },
  {
   "cell_type": "code",
   "execution_count": 134,
   "metadata": {},
   "outputs": [
    {
     "name": "stdout",
     "output_type": "stream",
     "text": [
      "            Specs          Score\n",
      "0   battery_power   14129.866576\n",
      "1            blue       0.723232\n",
      "2     clock_speed       0.648366\n",
      "3        dual_sim       0.631011\n",
      "4              fc      10.135166\n",
      "5          four_g       1.521572\n",
      "6      int_memory      89.839124\n",
      "7           m_dep       0.745820\n",
      "8       mobile_wt      95.972863\n",
      "9         n_cores       9.097556\n",
      "10             pc       9.186054\n",
      "11      px_height   17363.569536\n",
      "12       px_width    9810.586750\n",
      "13            ram  931267.519053\n",
      "14           sc_h       9.614878\n",
      "15           sc_w      16.480319\n",
      "16      talk_time      13.236400\n",
      "17        three_g       0.327643\n",
      "18   touch_screen       1.928429\n",
      "19           wifi       0.422091\n"
     ]
    }
   ],
   "source": [
    "# We are now going to do some feature selection using the chi-square function \n",
    "\n",
    "bestfeatures = SelectKBest(score_func=chi2, k=2)\n",
    "fit = bestfeatures.fit(X,y)\n",
    "dfscores = pd.DataFrame(fit.scores_)\n",
    "dfcolumns = pd.DataFrame(X.columns)\n",
    "#concat two dataframes for better visualization\n",
    "featureScores = pd.concat([dfcolumns,dfscores],axis=1)\n",
    "featureScores.columns = ['Specs','Score'] #naming the dataframe columns\n",
    "print(featureScores)\n",
    "\n",
    "# Lets create a function to determine the best number of features for all the models\n",
    "def findBestFeatures(model, X_train, y_train):\n",
    "    accuracy_list_train = []\n",
    "    k=np.arange(1,21,1)\n",
    "    for each in k:\n",
    "        x_new = SelectKBest(score_func=chi2, k=each).fit_transform(X_train, y_train)\n",
    "        model.fit(x_new,y_train)\n",
    "        accuracy_list_train.append(model.score(x_new,y_train))   \n",
    "    plt.plot(k,accuracy_list_train,color=\"green\",label=\"train\")\n",
    "    plt.xlabel(\"k values\")\n",
    "    plt.ylabel(\"train accuracy\")\n",
    "    plt.legend()\n",
    "    plt.show()"
   ]
  },
  {
   "cell_type": "code",
   "execution_count": 135,
   "metadata": {},
   "outputs": [
    {
     "name": "stdout",
     "output_type": "stream",
     "text": [
      "[[-0.90259726 -0.9900495   0.83077942 ... -1.78686097 -1.00601811\n",
      "   0.98609664]\n",
      " [-0.49513857  1.0100505  -1.2530642  ...  0.55964063  0.99401789\n",
      "  -1.01409939]\n",
      " [-1.5376865   1.0100505  -1.2530642  ...  0.55964063  0.99401789\n",
      "  -1.01409939]\n",
      " ...\n",
      " [ 1.53077336 -0.9900495  -0.76274805 ...  0.55964063  0.99401789\n",
      "  -1.01409939]\n",
      " [ 0.62252745 -0.9900495  -0.76274805 ...  0.55964063  0.99401789\n",
      "   0.98609664]\n",
      " [-1.65833069  1.0100505   0.58562134 ...  0.55964063  0.99401789\n",
      "   0.98609664]]\n",
      "[[0.22778891 0.         0.68       ... 0.         0.         1.        ]\n",
      " [0.34736139 1.         0.         ... 1.         1.         0.        ]\n",
      " [0.04141617 1.         0.         ... 1.         1.         0.        ]\n",
      " ...\n",
      " [0.94188377 0.         0.16       ... 1.         1.         0.        ]\n",
      " [0.6753507  0.         0.16       ... 1.         1.         1.        ]\n",
      " [0.00601202 1.         0.6        ... 1.         1.         1.        ]]\n"
     ]
    }
   ],
   "source": [
    "# We need to do some preprocessing \n",
    "# Lets apply a Standard Scaler which standardizes the features by removing the mean\n",
    "# and scaling to unit variance \n",
    "# .fit(X) computes the mean and std (standard deviation) of the X array\n",
    "# .transform(X) uses the computed mean and std and performs on X the standardization\n",
    "\n",
    "X_NoPrep = X.to_numpy()\n",
    "\n",
    "X = preprocessing.StandardScaler().fit(X).transform(X) #Preprocessed for better accuracy\n",
    "X_norm = preprocessing.MinMaxScaler().fit(X).transform(X) #Normalized for feature selection\n",
    "\n",
    "# Doing some feature selection is going to give us better results and reduce the time needed \n",
    "# for computation\n",
    "X_new = SelectKBest(chi2, k=5).fit_transform(X_norm, y)\n",
    "\n",
    "print(X) #Lets visualize it\n",
    "print(X_norm)"
   ]
  },
  {
   "cell_type": "code",
   "execution_count": 136,
   "metadata": {},
   "outputs": [],
   "source": [
    "# Lets split our database in to training and test and do some model comparison on \n",
    "# these datasets\n",
    " \n",
    "X_train, X_validation, y_train, y_validation = train_test_split(X, y, test_size = 0.10, stratify=y)\n",
    "X_trainNoP, X_validationNoP, y_trainNoP, y_validationNop = train_test_split(X_norm, y, test_size = 0.10, stratify=y)"
   ]
  },
  {
   "cell_type": "code",
   "execution_count": 137,
   "metadata": {},
   "outputs": [
    {
     "name": "stdout",
     "output_type": "stream",
     "text": [
      "Logistic Regression Classifier\n",
      "Accuracy score: 0.9620000000000001 \n",
      "F1 Score:0.9619377956142546 \n",
      "Average Precision Matrix:\n",
      "[[49.   1.   0.   0. ]\n",
      " [ 1.5 47.4  1.1  0. ]\n",
      " [ 0.   1.6 47.   1.4]\n",
      " [ 0.   0.   1.  49. ]]\n",
      "\n"
     ]
    }
   ],
   "source": [
    "# As first Model we will use a Logistic Regression Classifier\n",
    "\n",
    "#avg = np.mean(X_train, axis=0)\n",
    "#std = np.std(X_train,axis=0)\n",
    "#X_train = (X_train-avg/std)\n",
    "\n",
    "# I tried adding doing some feature scaling, but the models Accuracy didn't seem to be\n",
    "# improving in any way while doing so, some also showed worse results\n",
    "\n",
    "\n",
    "print(\"Logistic Regression Classifier\")\n",
    "logreg = LogisticRegression()\n",
    "kFoldCrossValidation(logreg, X, y)\n",
    "\n",
    "#findBestFeatures(logreg, X_trainNoP, y_trainNoP)\n",
    "print(\"\")"
   ]
  },
  {
   "cell_type": "code",
   "execution_count": 138,
   "metadata": {},
   "outputs": [
    {
     "name": "stdout",
     "output_type": "stream",
     "text": [
      "Decision Tree Classifier\n",
      "Accuracy score: 0.842 \n",
      "F1 Score:0.8422014702255002 \n",
      "Average Precision Matrix:\n",
      "[[44.9  5.1  0.   0. ]\n",
      " [ 4.9 39.7  5.4  0. ]\n",
      " [ 0.   5.1 40.4  4.5]\n",
      " [ 0.   0.   6.6 43.4]]\n"
     ]
    },
    {
     "data": {
      "image/png": "[encoded data removed]",
      "text/plain": [
       "<Figure size 432x288 with 1 Axes>"
      ]
     },
     "metadata": {
      "needs_background": "light"
     },
     "output_type": "display_data"
    },
    {
     "name": "stdout",
     "output_type": "stream",
     "text": [
      "\n"
     ]
    }
   ],
   "source": [
    "# As second model we will use a Decision Tree Classifier\n",
    "\n",
    "print(\"Decision Tree Classifier\")\n",
    "clf=DecisionTreeClassifier(max_depth=6)\n",
    "kFoldCrossValidation(clf, X, y)\n",
    "plot_tree(clf, filled=True)\n",
    "plt.show()\n",
    "print(\"\")"
   ]
  },
  {
   "cell_type": "code",
   "execution_count": 139,
   "metadata": {},
   "outputs": [
    {
     "name": "stdout",
     "output_type": "stream",
     "text": [
      "Random Forest Classifier\n",
      "Accuracy score: 0.8855000000000001 \n",
      "F1 Score:0.8854691202103917 \n",
      "Average Precision Matrix:\n",
      "[[47.   3.   0.   0. ]\n",
      " [ 3.6 42.3  4.1  0. ]\n",
      " [ 0.   5.5 41.2  3.3]\n",
      " [ 0.   0.   3.4 46.6]]\n",
      "\n"
     ]
    }
   ],
   "source": [
    "# Since the decision tree classifier wasn't very successful lets try with \n",
    "# a Random Forest Classifier\n",
    "\n",
    "print(\"Random Forest Classifier\")\n",
    "rf = RandomForestClassifier(n_estimators=200)\n",
    "kFoldCrossValidation(rf, X, y)\n",
    "print(\"\")"
   ]
  },
  {
   "cell_type": "code",
   "execution_count": 140,
   "metadata": {},
   "outputs": [
    {
     "name": "stdout",
     "output_type": "stream",
     "text": [
      "Support Vector Machine Classifier\n",
      "Accuracy score: 0.9504999999999999 \n",
      "F1 Score:0.950297976732335 \n",
      "Average Precision Matrix:\n",
      "[[49.1  0.9  0.   0. ]\n",
      " [ 1.5 47.7  0.8  0. ]\n",
      " [ 0.   2.6 45.   2.4]\n",
      " [ 0.   0.   1.7 48.3]]\n",
      "\n"
     ]
    }
   ],
   "source": [
    "# We will now also try with a Support Vector Machine, since the random forest model wasn't \n",
    "# a great success by any means\n",
    "\n",
    "print(\"Support Vector Machine Classifier\")\n",
    "svm_clf = SVC()\n",
    "kFoldCrossValidation(svm_clf, X_NoPrep, y)\n",
    "#findBestFeatures(svm_clf, X_trainNoP, y_trainNoP)\n",
    "print(\"\")"
   ]
  },
  {
   "cell_type": "code",
   "execution_count": 141,
   "metadata": {},
   "outputs": [
    {
     "name": "stdout",
     "output_type": "stream",
     "text": [
      "Bagging Classifier\n",
      "\n"
     ]
    }
   ],
   "source": [
    "# Lets also try with some other classifiers like the Bagging Classifier, the AdaBoost \n",
    "# (adaptive boosting), the Gradient Boosting and the XGBoost (extreme gradient boosting)\n",
    "# 200 estimators will be used for all of them, to keep it even and not make computational \n",
    "# time too long\n",
    "\n",
    "# First lets use the bagging classifier\n",
    "\n",
    "print(\"Bagging Classifier\")\n",
    "bc = BaggingClassifier(n_estimators = 200)\n",
    "kFoldCrossValidation(bc, X, y)\n",
    "#findBestFeatures(bc, X_trainNoP, y_trainNoP)\n",
    "print(\"\")"
   ]
  },
  {
   "cell_type": "code",
   "execution_count": 142,
   "metadata": {},
   "outputs": [
    {
     "name": "stdout",
     "output_type": "stream",
     "text": [
      "AdaBoost\n",
      "Accuracy score: 0.8215 \n",
      "F1 Score:0.8212556257530677 \n",
      "Average Precision Matrix:\n",
      "[[42.8  7.2  0.   0. ]\n",
      " [ 4.  38.6  7.4  0. ]\n",
      " [ 0.   5.3 38.3  6.4]\n",
      " [ 0.   0.   5.4 44.6]]\n",
      "\n"
     ]
    }
   ],
   "source": [
    "#The bagging classifier seems to give an ok result although the computational time it's very long\n",
    "\n",
    "# Then we will use the Adaptive Boosting\n",
    "\n",
    "print(\"AdaBoost\")\n",
    "\n",
    "ab = AdaBoostClassifier(n_estimators = 200)\n",
    "X_AdaBoost = SelectKBest(chi2, k=3).fit_transform(X_norm,y)\n",
    "\n",
    "#X_AdaBoost = X_AdaBoost[:, [0,1,2,5,6]]\n",
    "#print(X_AdaBoost)\n",
    "\n",
    "kFoldCrossValidation(ab, X_AdaBoost, y)\n",
    "#findBestFeatures(ab, X_norm, y)\n",
    "print(\"\")\n"
   ]
  },
  {
   "cell_type": "code",
   "execution_count": 143,
   "metadata": {},
   "outputs": [
    {
     "name": "stdout",
     "output_type": "stream",
     "text": [
      "Gradient Boosting\n",
      "Accuracy score: 0.913 \n",
      "F1 Score:0.9130838970524007 \n",
      "Average Precision Matrix:\n",
      "[[47.7  2.3  0.   0. ]\n",
      " [ 2.3 45.3  2.4  0. ]\n",
      " [ 0.   3.7 43.6  2.7]\n",
      " [ 0.   0.   4.  46. ]]\n",
      "\n"
     ]
    }
   ],
   "source": [
    "# Then the Gradient Boosting\n",
    "\n",
    "print(\"Gradient Boosting\")\n",
    "gb = GradientBoostingClassifier(n_estimators = 200)\n",
    "kFoldCrossValidation(gb, X, y)\n",
    "#findBestFeatures(gb, X_trainNoP, y_trainNoP)\n",
    "print(\"\")"
   ]
  },
  {
   "cell_type": "markdown",
   "metadata": {},
   "source": []
  },
  {
   "cell_type": "code",
   "execution_count": 144,
   "metadata": {},
   "outputs": [],
   "source": [
    "# And finally the Extreme Gradient Boosting\n",
    "\n",
    "#Uncomment only if using xgboost compatible kernel\n",
    "#print(\"Extreme Gradient Boosting:\")\n",
    "# Using label encoder false, to remove a warning, and eval_metric='logloss' for improved \n",
    "# results eval_metric='mlogloss' also shows good results\n",
    "#xgb = XGBClassifier(n_estimators = 200,  use_label_encoder=False, eval_metric='logloss')\n",
    "#kFoldCrossValidation(xgb, X_NoPrep, y)\n",
    "#print(\"\")\n",
    "\n",
    "# All of these models could be implemented in to a for cycle, but i wanted to show all the \n",
    "# actual full code behind it even if very repetitive for explainability and tuning purposes."
   ]
  },
  {
   "cell_type": "code",
   "execution_count": 145,
   "metadata": {},
   "outputs": [
    {
     "name": "stdout",
     "output_type": "stream",
     "text": [
      "Epoch 1/100\n",
      "16/23 [===================>..........] - ETA: 0s - loss: 1.3738 - accuracy: 0.3770"
     ]
    },
    {
     "name": "stderr",
     "output_type": "stream",
     "text": [
      "2022-04-11 22:39:44.356290: I tensorflow/core/grappler/optimizers/custom_graph_optimizer_registry.cc:112] Plugin optimizer for device_type GPU is enabled.\n"
     ]
    },
    {
     "name": "stdout",
     "output_type": "stream",
     "text": [
      "23/23 [==============================] - 0s 12ms/step - loss: 1.3700 - accuracy: 0.3799 - val_loss: 1.3499 - val_accuracy: 0.4056\n",
      "Epoch 2/100\n",
      "15/23 [==================>...........] - ETA: 0s - loss: 1.3430 - accuracy: 0.4083"
     ]
    },
    {
     "name": "stderr",
     "output_type": "stream",
     "text": [
      "2022-04-11 22:39:44.631503: I tensorflow/core/grappler/optimizers/custom_graph_optimizer_registry.cc:112] Plugin optimizer for device_type GPU is enabled.\n"
     ]
    },
    {
     "name": "stdout",
     "output_type": "stream",
     "text": [
      "23/23 [==============================] - 0s 9ms/step - loss: 1.3369 - accuracy: 0.4139 - val_loss: 1.3199 - val_accuracy: 0.4250\n",
      "Epoch 3/100\n",
      "23/23 [==============================] - 0s 8ms/step - loss: 1.3027 - accuracy: 0.5097 - val_loss: 1.2792 - val_accuracy: 0.5278\n",
      "Epoch 4/100\n",
      "23/23 [==============================] - 0s 8ms/step - loss: 1.2562 - accuracy: 0.5618 - val_loss: 1.2203 - val_accuracy: 0.5500\n",
      "Epoch 5/100\n",
      "23/23 [==============================] - 0s 8ms/step - loss: 1.1911 - accuracy: 0.5833 - val_loss: 1.1450 - val_accuracy: 0.5528\n",
      "Epoch 6/100\n",
      "23/23 [==============================] - 0s 8ms/step - loss: 1.1130 - accuracy: 0.6049 - val_loss: 1.0645 - val_accuracy: 0.5694\n",
      "Epoch 7/100\n",
      "23/23 [==============================] - 0s 8ms/step - loss: 1.0361 - accuracy: 0.6146 - val_loss: 0.9856 - val_accuracy: 0.6056\n",
      "Epoch 8/100\n",
      "23/23 [==============================] - 0s 8ms/step - loss: 0.9607 - accuracy: 0.6451 - val_loss: 0.9129 - val_accuracy: 0.6472\n",
      "Epoch 9/100\n",
      "23/23 [==============================] - 0s 8ms/step - loss: 0.8900 - accuracy: 0.7000 - val_loss: 0.8464 - val_accuracy: 0.7028\n",
      "Epoch 10/100\n",
      "23/23 [==============================] - 0s 8ms/step - loss: 0.8242 - accuracy: 0.7222 - val_loss: 0.7825 - val_accuracy: 0.7250\n",
      "Epoch 11/100\n",
      "23/23 [==============================] - 0s 8ms/step - loss: 0.7631 - accuracy: 0.7590 - val_loss: 0.7234 - val_accuracy: 0.7778\n",
      "Epoch 12/100\n",
      "23/23 [==============================] - 0s 8ms/step - loss: 0.7064 - accuracy: 0.7979 - val_loss: 0.6696 - val_accuracy: 0.8222\n",
      "Epoch 13/100\n",
      "23/23 [==============================] - 0s 8ms/step - loss: 0.6560 - accuracy: 0.8278 - val_loss: 0.6202 - val_accuracy: 0.8333\n",
      "Epoch 14/100\n",
      "23/23 [==============================] - 0s 8ms/step - loss: 0.6074 - accuracy: 0.8403 - val_loss: 0.5777 - val_accuracy: 0.9056\n",
      "Epoch 15/100\n",
      "23/23 [==============================] - 0s 8ms/step - loss: 0.5677 - accuracy: 0.8576 - val_loss: 0.5365 - val_accuracy: 0.9000\n",
      "Epoch 16/100\n",
      "23/23 [==============================] - 0s 8ms/step - loss: 0.5289 - accuracy: 0.8799 - val_loss: 0.5018 - val_accuracy: 0.8972\n",
      "Epoch 17/100\n",
      "23/23 [==============================] - 0s 8ms/step - loss: 0.4948 - accuracy: 0.8819 - val_loss: 0.4686 - val_accuracy: 0.9222\n",
      "Epoch 18/100\n",
      "23/23 [==============================] - 0s 8ms/step - loss: 0.4646 - accuracy: 0.8903 - val_loss: 0.4419 - val_accuracy: 0.9028\n",
      "Epoch 19/100\n",
      "23/23 [==============================] - 0s 8ms/step - loss: 0.4384 - accuracy: 0.8958 - val_loss: 0.4150 - val_accuracy: 0.9306\n",
      "Epoch 20/100\n",
      "23/23 [==============================] - 0s 8ms/step - loss: 0.4130 - accuracy: 0.9111 - val_loss: 0.3906 - val_accuracy: 0.9389\n",
      "Epoch 21/100\n",
      "23/23 [==============================] - 0s 8ms/step - loss: 0.3917 - accuracy: 0.9160 - val_loss: 0.3713 - val_accuracy: 0.9417\n",
      "Epoch 22/100\n",
      "23/23 [==============================] - 0s 8ms/step - loss: 0.3742 - accuracy: 0.9181 - val_loss: 0.3510 - val_accuracy: 0.9417\n",
      "Epoch 23/100\n",
      "23/23 [==============================] - 0s 8ms/step - loss: 0.3546 - accuracy: 0.9250 - val_loss: 0.3347 - val_accuracy: 0.9472\n",
      "Epoch 24/100\n",
      "23/23 [==============================] - 0s 8ms/step - loss: 0.3385 - accuracy: 0.9319 - val_loss: 0.3185 - val_accuracy: 0.9472\n",
      "Epoch 25/100\n",
      "23/23 [==============================] - 0s 8ms/step - loss: 0.3233 - accuracy: 0.9306 - val_loss: 0.3052 - val_accuracy: 0.9500\n",
      "Epoch 26/100\n",
      "23/23 [==============================] - 0s 8ms/step - loss: 0.3098 - accuracy: 0.9333 - val_loss: 0.2922 - val_accuracy: 0.9472\n",
      "Epoch 27/100\n",
      "23/23 [==============================] - 0s 8ms/step - loss: 0.2984 - accuracy: 0.9389 - val_loss: 0.2816 - val_accuracy: 0.9389\n",
      "Epoch 28/100\n",
      "23/23 [==============================] - 0s 8ms/step - loss: 0.2869 - accuracy: 0.9299 - val_loss: 0.2736 - val_accuracy: 0.9500\n",
      "Epoch 29/100\n",
      "23/23 [==============================] - 0s 8ms/step - loss: 0.2774 - accuracy: 0.9403 - val_loss: 0.2592 - val_accuracy: 0.9528\n",
      "Epoch 30/100\n",
      "23/23 [==============================] - 0s 8ms/step - loss: 0.2671 - accuracy: 0.9451 - val_loss: 0.2502 - val_accuracy: 0.9611\n",
      "Epoch 31/100\n",
      "23/23 [==============================] - 0s 8ms/step - loss: 0.2580 - accuracy: 0.9431 - val_loss: 0.2426 - val_accuracy: 0.9556\n",
      "Epoch 32/100\n",
      "23/23 [==============================] - 0s 8ms/step - loss: 0.2505 - accuracy: 0.9438 - val_loss: 0.2354 - val_accuracy: 0.9583\n",
      "Epoch 33/100\n",
      "23/23 [==============================] - 0s 8ms/step - loss: 0.2412 - accuracy: 0.9465 - val_loss: 0.2289 - val_accuracy: 0.9611\n",
      "Epoch 34/100\n",
      "23/23 [==============================] - 0s 8ms/step - loss: 0.2341 - accuracy: 0.9493 - val_loss: 0.2206 - val_accuracy: 0.9528\n",
      "Epoch 35/100\n",
      "23/23 [==============================] - 0s 8ms/step - loss: 0.2279 - accuracy: 0.9458 - val_loss: 0.2131 - val_accuracy: 0.9556\n",
      "Epoch 36/100\n",
      "23/23 [==============================] - 0s 8ms/step - loss: 0.2220 - accuracy: 0.9507 - val_loss: 0.2082 - val_accuracy: 0.9500\n",
      "Epoch 37/100\n",
      "23/23 [==============================] - 0s 8ms/step - loss: 0.2151 - accuracy: 0.9444 - val_loss: 0.2084 - val_accuracy: 0.9556\n",
      "Epoch 38/100\n",
      "23/23 [==============================] - 0s 8ms/step - loss: 0.2167 - accuracy: 0.9438 - val_loss: 0.1999 - val_accuracy: 0.9611\n",
      "Epoch 39/100\n",
      "23/23 [==============================] - 0s 8ms/step - loss: 0.2061 - accuracy: 0.9479 - val_loss: 0.1954 - val_accuracy: 0.9667\n",
      "Epoch 40/100\n",
      "23/23 [==============================] - 0s 8ms/step - loss: 0.2020 - accuracy: 0.9507 - val_loss: 0.1882 - val_accuracy: 0.9583\n",
      "Epoch 41/100\n",
      "23/23 [==============================] - 0s 8ms/step - loss: 0.1971 - accuracy: 0.9444 - val_loss: 0.1850 - val_accuracy: 0.9528\n",
      "Epoch 42/100\n",
      "23/23 [==============================] - 0s 9ms/step - loss: 0.1943 - accuracy: 0.9472 - val_loss: 0.1810 - val_accuracy: 0.9639\n",
      "Epoch 43/100\n",
      "23/23 [==============================] - 0s 8ms/step - loss: 0.1913 - accuracy: 0.9493 - val_loss: 0.1782 - val_accuracy: 0.9611\n",
      "Epoch 44/100\n",
      "23/23 [==============================] - 0s 8ms/step - loss: 0.1858 - accuracy: 0.9542 - val_loss: 0.1742 - val_accuracy: 0.9639\n",
      "Epoch 45/100\n",
      "23/23 [==============================] - 0s 9ms/step - loss: 0.1814 - accuracy: 0.9514 - val_loss: 0.1717 - val_accuracy: 0.9639\n",
      "Epoch 46/100\n",
      "23/23 [==============================] - 0s 8ms/step - loss: 0.1781 - accuracy: 0.9521 - val_loss: 0.1709 - val_accuracy: 0.9639\n",
      "Epoch 47/100\n",
      "23/23 [==============================] - 0s 8ms/step - loss: 0.1778 - accuracy: 0.9528 - val_loss: 0.1656 - val_accuracy: 0.9611\n",
      "Epoch 48/100\n",
      "23/23 [==============================] - 0s 8ms/step - loss: 0.1736 - accuracy: 0.9507 - val_loss: 0.1648 - val_accuracy: 0.9583\n",
      "Epoch 49/100\n",
      "23/23 [==============================] - 0s 8ms/step - loss: 0.1698 - accuracy: 0.9549 - val_loss: 0.1610 - val_accuracy: 0.9556\n",
      "Epoch 50/100\n",
      "23/23 [==============================] - 0s 8ms/step - loss: 0.1668 - accuracy: 0.9611 - val_loss: 0.1628 - val_accuracy: 0.9639\n",
      "Epoch 51/100\n",
      "23/23 [==============================] - 0s 8ms/step - loss: 0.1664 - accuracy: 0.9493 - val_loss: 0.1582 - val_accuracy: 0.9611\n",
      "Epoch 52/100\n",
      "23/23 [==============================] - 0s 8ms/step - loss: 0.1622 - accuracy: 0.9576 - val_loss: 0.1544 - val_accuracy: 0.9611\n",
      "Epoch 53/100\n",
      "23/23 [==============================] - 0s 8ms/step - loss: 0.1589 - accuracy: 0.9604 - val_loss: 0.1532 - val_accuracy: 0.9667\n",
      "Epoch 54/100\n",
      "23/23 [==============================] - 0s 8ms/step - loss: 0.1579 - accuracy: 0.9576 - val_loss: 0.1506 - val_accuracy: 0.9528\n",
      "Epoch 55/100\n",
      "23/23 [==============================] - 0s 8ms/step - loss: 0.1557 - accuracy: 0.9576 - val_loss: 0.1488 - val_accuracy: 0.9639\n",
      "Epoch 56/100\n",
      "23/23 [==============================] - 0s 8ms/step - loss: 0.1550 - accuracy: 0.9535 - val_loss: 0.1479 - val_accuracy: 0.9639\n",
      "Epoch 57/100\n",
      "23/23 [==============================] - 0s 8ms/step - loss: 0.1534 - accuracy: 0.9569 - val_loss: 0.1465 - val_accuracy: 0.9611\n",
      "Epoch 58/100\n",
      "23/23 [==============================] - 0s 8ms/step - loss: 0.1487 - accuracy: 0.9569 - val_loss: 0.1448 - val_accuracy: 0.9500\n",
      "Epoch 59/100\n",
      "23/23 [==============================] - 0s 8ms/step - loss: 0.1478 - accuracy: 0.9583 - val_loss: 0.1446 - val_accuracy: 0.9556\n",
      "Epoch 60/100\n",
      "23/23 [==============================] - 0s 8ms/step - loss: 0.1469 - accuracy: 0.9576 - val_loss: 0.1401 - val_accuracy: 0.9639\n",
      "Epoch 61/100\n",
      "23/23 [==============================] - 0s 8ms/step - loss: 0.1470 - accuracy: 0.9542 - val_loss: 0.1393 - val_accuracy: 0.9639\n",
      "Epoch 62/100\n",
      "23/23 [==============================] - 0s 8ms/step - loss: 0.1431 - accuracy: 0.9611 - val_loss: 0.1372 - val_accuracy: 0.9611\n",
      "Epoch 63/100\n",
      "23/23 [==============================] - 0s 8ms/step - loss: 0.1419 - accuracy: 0.9556 - val_loss: 0.1388 - val_accuracy: 0.9611\n",
      "Epoch 64/100\n",
      "23/23 [==============================] - 0s 8ms/step - loss: 0.1417 - accuracy: 0.9583 - val_loss: 0.1445 - val_accuracy: 0.9500\n",
      "Epoch 65/100\n",
      "23/23 [==============================] - 0s 8ms/step - loss: 0.1419 - accuracy: 0.9521 - val_loss: 0.1347 - val_accuracy: 0.9667\n",
      "Epoch 66/100\n",
      "23/23 [==============================] - 0s 8ms/step - loss: 0.1373 - accuracy: 0.9597 - val_loss: 0.1324 - val_accuracy: 0.9611\n",
      "Epoch 67/100\n",
      "23/23 [==============================] - 0s 8ms/step - loss: 0.1364 - accuracy: 0.9563 - val_loss: 0.1313 - val_accuracy: 0.9667\n",
      "Epoch 68/100\n",
      "23/23 [==============================] - 0s 8ms/step - loss: 0.1372 - accuracy: 0.9604 - val_loss: 0.1299 - val_accuracy: 0.9667\n",
      "Epoch 69/100\n",
      "23/23 [==============================] - 0s 8ms/step - loss: 0.1336 - accuracy: 0.9611 - val_loss: 0.1286 - val_accuracy: 0.9639\n",
      "Epoch 70/100\n",
      "23/23 [==============================] - 0s 8ms/step - loss: 0.1320 - accuracy: 0.9597 - val_loss: 0.1287 - val_accuracy: 0.9611\n",
      "Epoch 71/100\n",
      "23/23 [==============================] - 0s 8ms/step - loss: 0.1310 - accuracy: 0.9556 - val_loss: 0.1299 - val_accuracy: 0.9611\n",
      "Epoch 72/100\n",
      "23/23 [==============================] - 0s 8ms/step - loss: 0.1316 - accuracy: 0.9597 - val_loss: 0.1262 - val_accuracy: 0.9639\n",
      "Epoch 73/100\n",
      "23/23 [==============================] - 0s 8ms/step - loss: 0.1291 - accuracy: 0.9576 - val_loss: 0.1254 - val_accuracy: 0.9611\n",
      "Epoch 74/100\n",
      "23/23 [==============================] - 0s 8ms/step - loss: 0.1305 - accuracy: 0.9583 - val_loss: 0.1263 - val_accuracy: 0.9528\n",
      "Epoch 75/100\n",
      "23/23 [==============================] - 0s 8ms/step - loss: 0.1284 - accuracy: 0.9556 - val_loss: 0.1252 - val_accuracy: 0.9583\n",
      "Epoch 76/100\n",
      "23/23 [==============================] - 0s 8ms/step - loss: 0.1264 - accuracy: 0.9569 - val_loss: 0.1227 - val_accuracy: 0.9639\n",
      "Epoch 77/100\n",
      "23/23 [==============================] - 0s 9ms/step - loss: 0.1250 - accuracy: 0.9590 - val_loss: 0.1224 - val_accuracy: 0.9639\n",
      "Epoch 78/100\n",
      "23/23 [==============================] - 0s 8ms/step - loss: 0.1246 - accuracy: 0.9590 - val_loss: 0.1214 - val_accuracy: 0.9583\n",
      "Epoch 79/100\n",
      "23/23 [==============================] - 0s 8ms/step - loss: 0.1229 - accuracy: 0.9590 - val_loss: 0.1215 - val_accuracy: 0.9639\n",
      "Epoch 80/100\n",
      "23/23 [==============================] - 0s 8ms/step - loss: 0.1259 - accuracy: 0.9583 - val_loss: 0.1253 - val_accuracy: 0.9556\n",
      "Epoch 81/100\n",
      "23/23 [==============================] - 0s 8ms/step - loss: 0.1230 - accuracy: 0.9583 - val_loss: 0.1242 - val_accuracy: 0.9583\n",
      "Epoch 82/100\n",
      "23/23 [==============================] - 0s 8ms/step - loss: 0.1241 - accuracy: 0.9583 - val_loss: 0.1253 - val_accuracy: 0.9472\n",
      "Epoch 83/100\n",
      "23/23 [==============================] - 0s 8ms/step - loss: 0.1203 - accuracy: 0.9597 - val_loss: 0.1200 - val_accuracy: 0.9667\n",
      "Epoch 84/100\n",
      "23/23 [==============================] - 0s 8ms/step - loss: 0.1219 - accuracy: 0.9556 - val_loss: 0.1177 - val_accuracy: 0.9583\n",
      "Epoch 85/100\n",
      "23/23 [==============================] - 0s 8ms/step - loss: 0.1196 - accuracy: 0.9576 - val_loss: 0.1174 - val_accuracy: 0.9611\n",
      "Epoch 86/100\n",
      "23/23 [==============================] - 0s 8ms/step - loss: 0.1224 - accuracy: 0.9521 - val_loss: 0.1167 - val_accuracy: 0.9556\n",
      "Epoch 87/100\n",
      "23/23 [==============================] - 0s 8ms/step - loss: 0.1178 - accuracy: 0.9590 - val_loss: 0.1176 - val_accuracy: 0.9611\n",
      "Epoch 88/100\n",
      "23/23 [==============================] - 0s 8ms/step - loss: 0.1221 - accuracy: 0.9583 - val_loss: 0.1160 - val_accuracy: 0.9639\n",
      "Epoch 89/100\n",
      "23/23 [==============================] - 0s 8ms/step - loss: 0.1174 - accuracy: 0.9597 - val_loss: 0.1147 - val_accuracy: 0.9694\n",
      "Epoch 90/100\n",
      "23/23 [==============================] - 0s 8ms/step - loss: 0.1227 - accuracy: 0.9535 - val_loss: 0.1137 - val_accuracy: 0.9611\n",
      "Epoch 91/100\n",
      "23/23 [==============================] - 0s 8ms/step - loss: 0.1156 - accuracy: 0.9583 - val_loss: 0.1157 - val_accuracy: 0.9611\n",
      "Epoch 92/100\n",
      "23/23 [==============================] - 0s 8ms/step - loss: 0.1155 - accuracy: 0.9569 - val_loss: 0.1142 - val_accuracy: 0.9667\n",
      "Epoch 93/100\n",
      "23/23 [==============================] - 0s 8ms/step - loss: 0.1147 - accuracy: 0.9569 - val_loss: 0.1124 - val_accuracy: 0.9667\n",
      "Epoch 94/100\n",
      "23/23 [==============================] - 0s 8ms/step - loss: 0.1148 - accuracy: 0.9604 - val_loss: 0.1169 - val_accuracy: 0.9528\n",
      "Epoch 95/100\n",
      "23/23 [==============================] - 0s 8ms/step - loss: 0.1125 - accuracy: 0.9604 - val_loss: 0.1121 - val_accuracy: 0.9667\n",
      "Epoch 96/100\n",
      "23/23 [==============================] - 0s 8ms/step - loss: 0.1115 - accuracy: 0.9597 - val_loss: 0.1127 - val_accuracy: 0.9639\n",
      "Epoch 97/100\n",
      "23/23 [==============================] - 0s 8ms/step - loss: 0.1125 - accuracy: 0.9556 - val_loss: 0.1118 - val_accuracy: 0.9639\n",
      "Epoch 98/100\n",
      "23/23 [==============================] - 0s 8ms/step - loss: 0.1135 - accuracy: 0.9569 - val_loss: 0.1128 - val_accuracy: 0.9556\n",
      "Epoch 99/100\n",
      "23/23 [==============================] - 0s 8ms/step - loss: 0.1148 - accuracy: 0.9521 - val_loss: 0.1202 - val_accuracy: 0.9528\n",
      "Epoch 100/100\n",
      "23/23 [==============================] - 0s 8ms/step - loss: 0.1143 - accuracy: 0.9569 - val_loss: 0.1147 - val_accuracy: 0.9583\n",
      "7/7 [==============================] - 0s 7ms/step - loss: 0.1594 - accuracy: 0.9200\n",
      "0.9199999570846558\n",
      "Neural Network: \n"
     ]
    },
    {
     "name": "stderr",
     "output_type": "stream",
     "text": [
      "2022-04-11 22:40:02.595903: I tensorflow/core/grappler/optimizers/custom_graph_optimizer_registry.cc:112] Plugin optimizer for device_type GPU is enabled.\n"
     ]
    },
    {
     "data": {
      "image/png": "[encoded data removed]",
      "text/plain": [
       "<Figure size 432x288 with 1 Axes>"
      ]
     },
     "metadata": {
      "needs_background": "light"
     },
     "output_type": "display_data"
    },
    {
     "name": "stdout",
     "output_type": "stream",
     "text": [
      "Accuracy score: 0.92 \n",
      "F1 Score:0.9195631963119477 \n",
      "Precision Matrix:\n",
      "[[66  1  0  0]\n",
      " [ 4 40  0  0]\n",
      " [ 0  3 42  2]\n",
      " [ 0  0  6 36]]\n"
     ]
    }
   ],
   "source": [
    "# As we can see the best models are the Linear Regression, the Logistic Regression,\n",
    "# the Gradient Boosting and the Extreme Gradient Boosting.\n",
    "# Some decent results were also seen in the Random Forest Classifier, the Bagging \n",
    "# Classifier and the Support Vector Machine.\n",
    "# The support vector machine shows great results when there is no preprocessing applied \n",
    "# to the X_train dataset 95% accuracy\n",
    "\n",
    "# Lets see now how a Neural Network can deal with this dataset and its classification\n",
    "\n",
    "# We need to make y categorical as we are going to use a softmax as final layer \n",
    "# for multi-class classification\n",
    "y = to_categorical(y)\n",
    "\n",
    "# We are going to use a different training set and test set for the Neural Network since we \n",
    "# made y categorical\n",
    "X_train, X_validation, y_train, y_validation = train_test_split(X_new, y, test_size = 0.10)\n",
    "\n",
    "# The model that we are going to use is sequential\n",
    "model = models.Sequential()\n",
    "#The first layer that you define is the input layer. This layer needs to know the \n",
    "# input dimensions of your data.\n",
    "# Dense = fully connected layer (each neuron is fully connected to all neurons \n",
    "# in the previous layer)\n",
    "model.add(layers.Dense(18, activation='relu',input_dim=5))\n",
    "# Add one hidden layer (after the first layer, you don't need to specify \n",
    "# the size of the input anymore)\n",
    "model.add(layers.Dense(18, activation='relu'))\n",
    "# If you don't specify anything, no activation is applied (ie.\"linear\" activation: a(x) = x)\n",
    "model.add(layers.Dense(4,activation='softmax'))\n",
    "\n",
    "opt = optimizers.Adam()\n",
    "\n",
    "model.compile(loss='categorical_crossentropy', optimizer=opt, metrics=['accuracy'])\n",
    "\n",
    "# Fit the model to the training data and record events into a History object.\n",
    "history = model.fit(X_train, y_train, epochs=100, batch_size=64, validation_split=0.2, verbose=1)\n",
    "\n",
    "# Model evaluation\n",
    "test_loss,test_pr = model.evaluate(X_validation,y_validation)\n",
    "y_pred = model.predict(X_validation)\n",
    "print(test_pr)\n",
    "\n",
    "pred = list()\n",
    "\n",
    "test = list()\n",
    "\n",
    "for i in range(len(y_pred)):\n",
    "    pred.append(np.argmax(y_pred[i]))\n",
    "\n",
    "for i in range(len(y_validation)):\n",
    "    test.append(np.argmax(y_validation[i]))\n",
    "\n",
    "\n",
    "print(\"Neural Network: \")\n",
    "# Plotting loss and epochs for training set and validation set\n",
    "plt.figure()\n",
    "plt.xlabel('Epoch')\n",
    "plt.ylabel('Loss')\n",
    "plt.plot(history.epoch,\n",
    "np.array(history.history['loss']),label='Train loss')\n",
    "plt.plot(history.epoch,\n",
    "np.array(history.history['val_loss']),label = 'Val loss')\n",
    "plt.legend()\n",
    "plt.show()\n",
    "\n",
    "acc, f1, prec_m = score(pred, test, 'weighted')\n",
    "print(\"Accuracy score: \"+str(acc) + \" \\nF1 Score:\" + str(f1) \n",
    "          + \" \\nPrecision Matrix:\\n\" + str(prec_m))"
   ]
  },
  {
   "cell_type": "code",
   "execution_count": 146,
   "metadata": {},
   "outputs": [],
   "source": [
    "# In this last run we got a decent result also from the Neural Network, yet this machine\n",
    "# learning technicque its very time consuming and the results aren't always as good as\n",
    "# expected. In the last run for example we got an accuracy score of 0.945 while the Logistic \n",
    "# Regression got a 0.963 in just 0.3 seconds compared to the wapping 18.5 seconds taken by the \n",
    "# Neural Network."
   ]
  }
 ],
 "metadata": {
  "interpreter": {
   "hash": "2cb0a6b9bddae90085b45bd39859f739acf9981be091afa8a43bf61273672cb2"
  },
  "kernelspec": {
   "display_name": "Python 3.9.7 ('base')",
   "language": "python",
   "name": "python3"
  },
  "language_info": {
   "codemirror_mode": {
    "name": "ipython",
    "version": 3
   },
   "file_extension": ".py",
   "mimetype": "text/x-python",
   "name": "python",
   "nbconvert_exporter": "python",
   "pygments_lexer": "ipython3",
   "version": "3.9.5"
  },
  "orig_nbformat": 4
 },
 "nbformat": 4,
 "nbformat_minor": 2
}
